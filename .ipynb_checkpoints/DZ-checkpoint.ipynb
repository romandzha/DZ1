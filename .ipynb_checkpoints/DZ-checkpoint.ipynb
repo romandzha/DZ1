{
 "cells": [
  {
   "cell_type": "code",
   "execution_count": 31,
   "id": "d7c6cf2f-2331-44cd-a560-b50e7800efbd",
   "metadata": {},
   "outputs": [
    {
     "name": "stdout",
     "output_type": "stream",
     "text": [
      "Введите год:  2040\n"
     ]
    },
    {
     "name": "stdout",
     "output_type": "stream",
     "text": [
      "Год високосный\n"
     ]
    }
   ],
   "source": [
    "# Задание 1\n",
    "\n",
    "year = int(input(\"Введите год: \"))\n",
    "\n",
    "if (year % 4 == 0 and year % 100 != 0) or (year % 400 == 0):\n",
    "    print(\"Год високосный\")\n",
    "else:\n",
    "    print(\"Обычный год\")"
   ]
  },
  {
   "cell_type": "code",
   "execution_count": 33,
   "id": "f28e4709-8c89-41e9-b5e1-dc7593fd3a8f",
   "metadata": {},
   "outputs": [
    {
     "name": "stdout",
     "output_type": "stream",
     "text": [
      "Введите номер билета (шестизначное число):  676595\n"
     ]
    },
    {
     "name": "stdout",
     "output_type": "stream",
     "text": [
      "Счастливый билет\n"
     ]
    },
    {
     "name": "stdout",
     "output_type": "stream",
     "text": [
      "Счастливый билет\n"
     ]
    }
   ],
   "source": [
    "number = int(input(\"Введите номер билета (шестизначное число): \"))\n",
    "\n",
    "if 100000 <= number <= 999999:\n",
    "    a = number % 1000\n",
    "    b = number // 1000\n",
    "    \n",
    "    a1 = a % 10\n",
    "    a2 = a // 10 % 10\n",
    "    a3 = a // 100\n",
    "    \n",
    "    b1 = b % 10\n",
    "    b2 = b // 10 % 10\n",
    "    b3 = b // 100\n",
    "    \n",
    "    if a1+a2+a3 == b1+b2+b3:\n",
    "        print('Счастливый билет')\n",
    "    else:\n",
    "        print('Несчастливый билет')\n",
    "else:\n",
    "    print(\"Введен неверный код\")"
   ]
  },
  {
   "cell_type": "code",
   "execution_count": 35,
   "id": "0832457f-cde7-4beb-a627-31039442a6b3",
   "metadata": {},
   "outputs": [
    {
     "name": "stdout",
     "output_type": "stream",
     "text": [
      "Дает рекомендации по разработке дизайна и внедерению контрольных процедур, управлению рисками, предотвращению мошенничества\n"
     ]
    }
   ],
   "source": [
    "my_string = \"Дает рекомендации по разработке дизайна и внедерению контрольных процедур, управлению рисками, предотвращению мошенничества\"\n",
    "control = \"по\"\n",
    "\n",
    "if control in my_string:\n",
    "    print(my_string)"
   ]
  },
  {
   "cell_type": "code",
   "execution_count": 36,
   "id": "3fbc9da6-5c5e-4b1c-ac7f-653707e18c3a",
   "metadata": {},
   "outputs": [
    {
     "name": "stdout",
     "output_type": "stream",
     "text": [
      "Hello world Click\n"
     ]
    }
   ],
   "source": [
    "main = 'click'\n",
    "notmain = 'flock'\n",
    "\n",
    "print(f'Hello world {main.capitalize()}')\n"
   ]
  },
  {
   "cell_type": "code",
   "execution_count": 46,
   "id": "e37f467d-eb50-4878-b2f7-d6b662994b17",
   "metadata": {},
   "outputs": [
    {
     "name": "stdout",
     "output_type": "stream",
     "text": [
      "0\n",
      "[1000, 2000]\n"
     ]
    }
   ],
   "source": [
    "month_list = ['1','2',['1','2',0,'4'],'2','3','4','4']\n",
    "print(month_list[2][2])\n",
    "month_list[0:2] = [1000,2000]\n",
    "print(month_list[:2])"
   ]
  },
  {
   "cell_type": "code",
   "execution_count": 47,
   "id": "e607c09f-c4ec-41e2-98de-128275093b33",
   "metadata": {},
   "outputs": [
    {
     "name": "stdout",
     "output_type": "stream",
     "text": [
      "['1', '2', '2', '3', '4', '4']\n"
     ]
    }
   ],
   "source": [
    "month_list = ['1','2',['1','2',0,'4'],'2','3','4','4']\n",
    "del(month_list[2])\n",
    "print(month_list)\n"
   ]
  },
  {
   "cell_type": "code",
   "execution_count": null,
   "id": "c8cba884-5920-47e7-9a6e-1c5bdb6db918",
   "metadata": {},
   "outputs": [],
   "source": []
  }
 ],
 "metadata": {
  "kernelspec": {
   "display_name": "Python 3 (ipykernel)",
   "language": "python",
   "name": "python3"
  },
  "language_info": {
   "codemirror_mode": {
    "name": "ipython",
    "version": 3
   },
   "file_extension": ".py",
   "mimetype": "text/x-python",
   "name": "python",
   "nbconvert_exporter": "python",
   "pygments_lexer": "ipython3",
   "version": "3.13.5"
  }
 },
 "nbformat": 4,
 "nbformat_minor": 5
}
